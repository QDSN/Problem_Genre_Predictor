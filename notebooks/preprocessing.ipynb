{
 "metadata": {
  "language_info": {
   "codemirror_mode": {
    "name": "ipython",
    "version": 3
   },
   "file_extension": ".py",
   "mimetype": "text/x-python",
   "name": "python",
   "nbconvert_exporter": "python",
   "pygments_lexer": "ipython3",
   "version": "3.7.0-final"
  },
  "orig_nbformat": 2,
  "kernelspec": {
   "name": "python3",
   "display_name": "Python 3",
   "language": "python"
  }
 },
 "nbformat": 4,
 "nbformat_minor": 2,
 "cells": [
  {
   "cell_type": "code",
   "execution_count": 1,
   "metadata": {},
   "outputs": [],
   "source": [
    "import pandas as pd"
   ]
  },
  {
   "cell_type": "code",
   "execution_count": 2,
   "metadata": {},
   "outputs": [],
   "source": [
    "df=pd.read_csv(\"../data/atcoder_problem_tag_dataset.csv\")"
   ]
  },
  {
   "cell_type": "code",
   "execution_count": 3,
   "metadata": {},
   "outputs": [],
   "source": [
    "df=df[df[\"problem_texts\"].notna()].reset_index()"
   ]
  },
  {
   "cell_type": "code",
   "execution_count": 18,
   "metadata": {},
   "outputs": [
    {
     "output_type": "execute_result",
     "data": {
      "text/plain": [
       "                                                   urls  \\\n",
       "3065  https://atcoder.jp/contests/agc021/tasks/agc021_b   \n",
       "3068  https://atcoder.jp/contests/abc157/tasks/abc157_f   \n",
       "3071  https://atcoder.jp/contests/mujin-pc-2016/task...   \n",
       "3073  https://atcoder.jp/contests/s8pc-5/tasks/s8pc_5_b   \n",
       "3074  https://atcoder.jp/contests/cf16-exhibition-fi...   \n",
       "\n",
       "                                          problem_texts  \\\n",
       "3065  \\nProblem StatementThere are N holes in a two-...   \n",
       "3068  \\nProblem StatementTakahashi wants to grill N ...   \n",
       "3071  \\nProblem\\nWe made a convex-hexagonal hole on ...   \n",
       "3073  \\nProblem Statement\\nE869120 the coder is goin...   \n",
       "3074  \\nProblem Statement\\r\\n   #nck {\\r\\n      widt...   \n",
       "\n",
       "                                            constraints  \\\n",
       "3065  \\nConstraints\\n2 \\leq N \\leq 100\\n|x_i|,|y_i| ...   \n",
       "3068  \\nConstraints\\nAll values in input are integer...   \n",
       "3071  \\nInput\\nThe input will be given in the follow...   \n",
       "3073  \\nInput\\nInput is given from Standard Input in...   \n",
       "3074  \\nConstraints\\n0 ≤ x_i, y_i ≤ 1000\\nThe coordi...   \n",
       "\n",
       "                                            input_texts  \\\n",
       "3065  \\nInputInput is given from Standard Input in t...   \n",
       "3068  \\nInputInput is given from Standard Input in t...   \n",
       "3071  \\nOutput\\nPrint the minimum possible volume of...   \n",
       "3073  \\nOutput\\nPrint the maximum value of \"the radi...   \n",
       "3074  \\nInputThe input is given from Standard Input ...   \n",
       "\n",
       "                                           output_texts       tag  \n",
       "3065  \\nOutputPrint N real numbers. The i-th real nu...  Geometry  \n",
       "3068  \\nOutputPrint the answer.\\nIt will be consider...  Geometry  \n",
       "3071  \\nInput Example 1\\n\\r\\n1 4\\r\\n0 2\\r\\n1 0\\r\\n4 ...  Geometry  \n",
       "3073  \\nConstraints\\n\\nN is an integer between 0 and...  Geometry  \n",
       "3074  \\nOutputPrint the maximum possible radius of t...  Geometry  "
      ],
      "text/html": "<div>\n<style scoped>\n    .dataframe tbody tr th:only-of-type {\n        vertical-align: middle;\n    }\n\n    .dataframe tbody tr th {\n        vertical-align: top;\n    }\n\n    .dataframe thead th {\n        text-align: right;\n    }\n</style>\n<table border=\"1\" class=\"dataframe\">\n  <thead>\n    <tr style=\"text-align: right;\">\n      <th></th>\n      <th>urls</th>\n      <th>problem_texts</th>\n      <th>constraints</th>\n      <th>input_texts</th>\n      <th>output_texts</th>\n      <th>tag</th>\n    </tr>\n  </thead>\n  <tbody>\n    <tr>\n      <th>3065</th>\n      <td>https://atcoder.jp/contests/agc021/tasks/agc021_b</td>\n      <td>\\nProblem StatementThere are N holes in a two-...</td>\n      <td>\\nConstraints\\n2 \\leq N \\leq 100\\n|x_i|,|y_i| ...</td>\n      <td>\\nInputInput is given from Standard Input in t...</td>\n      <td>\\nOutputPrint N real numbers. The i-th real nu...</td>\n      <td>Geometry</td>\n    </tr>\n    <tr>\n      <th>3068</th>\n      <td>https://atcoder.jp/contests/abc157/tasks/abc157_f</td>\n      <td>\\nProblem StatementTakahashi wants to grill N ...</td>\n      <td>\\nConstraints\\nAll values in input are integer...</td>\n      <td>\\nInputInput is given from Standard Input in t...</td>\n      <td>\\nOutputPrint the answer.\\nIt will be consider...</td>\n      <td>Geometry</td>\n    </tr>\n    <tr>\n      <th>3071</th>\n      <td>https://atcoder.jp/contests/mujin-pc-2016/task...</td>\n      <td>\\nProblem\\nWe made a convex-hexagonal hole on ...</td>\n      <td>\\nInput\\nThe input will be given in the follow...</td>\n      <td>\\nOutput\\nPrint the minimum possible volume of...</td>\n      <td>\\nInput Example 1\\n\\r\\n1 4\\r\\n0 2\\r\\n1 0\\r\\n4 ...</td>\n      <td>Geometry</td>\n    </tr>\n    <tr>\n      <th>3073</th>\n      <td>https://atcoder.jp/contests/s8pc-5/tasks/s8pc_5_b</td>\n      <td>\\nProblem Statement\\nE869120 the coder is goin...</td>\n      <td>\\nInput\\nInput is given from Standard Input in...</td>\n      <td>\\nOutput\\nPrint the maximum value of \"the radi...</td>\n      <td>\\nConstraints\\n\\nN is an integer between 0 and...</td>\n      <td>Geometry</td>\n    </tr>\n    <tr>\n      <th>3074</th>\n      <td>https://atcoder.jp/contests/cf16-exhibition-fi...</td>\n      <td>\\nProblem Statement\\r\\n   #nck {\\r\\n      widt...</td>\n      <td>\\nConstraints\\n0 ≤ x_i, y_i ≤ 1000\\nThe coordi...</td>\n      <td>\\nInputThe input is given from Standard Input ...</td>\n      <td>\\nOutputPrint the maximum possible radius of t...</td>\n      <td>Geometry</td>\n    </tr>\n  </tbody>\n</table>\n</div>"
     },
     "metadata": {},
     "execution_count": 18
    }
   ],
   "source": []
  },
  {
   "cell_type": "code",
   "execution_count": null,
   "metadata": {},
   "outputs": [],
   "source": []
  }
 ]
}