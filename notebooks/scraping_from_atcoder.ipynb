{
 "metadata": {
  "language_info": {
   "codemirror_mode": {
    "name": "ipython",
    "version": 3
   },
   "file_extension": ".py",
   "mimetype": "text/x-python",
   "name": "python",
   "nbconvert_exporter": "python",
   "pygments_lexer": "ipython3",
   "version": "3.7.0-final"
  },
  "orig_nbformat": 2,
  "kernelspec": {
   "name": "python3",
   "display_name": "Python 3.7.0 64-bit ('base': conda)",
   "metadata": {
    "interpreter": {
     "hash": "66d0d3eda91e5879646b3ba1e7491bbb0b49271b31f0264f8c78d03d4ceed0f8"
    }
   }
  }
 },
 "nbformat": 4,
 "nbformat_minor": 2,
 "cells": [
  {
   "cell_type": "code",
   "execution_count": 1,
   "metadata": {},
   "outputs": [],
   "source": [
    "import requests\n",
    "from bs4 import BeautifulSoup\n",
    "import pandas as pd\n",
    "from tqdm import tqdm"
   ]
  },
  {
   "cell_type": "code",
   "execution_count": 2,
   "metadata": {
    "tags": []
   },
   "outputs": [],
   "source": [
    "def extract_text_from_atcoder_problem_page(problem_url):\n",
    "    res ={\"problem_text\":\"\",\"constraint\":\"\",\"input_text\":\"\",\"output_text\":\"\"}\n",
    "    problem_html = requests.get(problem_url)\n",
    "    problem_parse = BeautifulSoup(problem_html.content,\"html.parser\",from_encoding=\"utf-8\")\n",
    "    problem_span = problem_parse.find_all(\"span\")\n",
    "    for elem in problem_span:\n",
    "        try:\n",
    "            elem_cls = elem.get(\"class\")[0]\n",
    "            if (elem_cls==\"lang-en\"):\n",
    "                res[\"problem_text\"],res[\"constraint\"],res[\"input_text\"],res[\"output_text\"]=[paragraph.text for paragraph in elem.find_all(\"section\")][:4]\n",
    "        except:\n",
    "            pass\n",
    "    return res"
   ]
  },
  {
   "cell_type": "code",
   "execution_count": 3,
   "metadata": {},
   "outputs": [],
   "source": [
    "base_url = \"https://atcoder-tags.herokuapp.com/tag_search/\"\n",
    "tags_list=[\"Easy\",\"Ad-Hoc\",\"Searching\",\"Greedy-Methods\",\"String\",\"Mathematics\",\"Technique\",\"Construct\",\"Graph\",\"Dynamic-Programming\",\"Data-Structure\",\"Game\",\"Flow-Algorithms\",\"Geometry\"]"
   ]
  },
  {
   "cell_type": "code",
   "execution_count": 4,
   "metadata": {
    "tags": []
   },
   "outputs": [],
   "source": [
    "df = {\"urls\":[],\"problem_texts\":[],\"constraints\":[],\"input_texts\":[],\"output_texts\":[],\"tag\":[]}"
   ]
  },
  {
   "cell_type": "code",
   "execution_count": 5,
   "metadata": {
    "tags": []
   },
   "outputs": [],
   "source": [
    "atcoder_tags_url = base_url+tags_list[0]\n",
    "atcoder_tags_html = requests.get(atcoder_tags_url)\n",
    "atcoder_tags_parse = BeautifulSoup(atcoder_tags_html.content,\"html.parser\",from_encoding=\"utf-8\")"
   ]
  },
  {
   "cell_type": "code",
   "execution_count": 7,
   "metadata": {},
   "outputs": [],
   "source": [
    "for tag in tags_list:\n",
    "    atcoder_tags_url = base_url+tag\n",
    "    atcoder_tags_html = requests.get(atcoder_tags_url)\n",
    "    atcoder_tags_parse = BeautifulSoup(atcoder_tags_html.content,\"html.parser\",from_encoding=\"utf-8\")\n",
    "    prob_urls =[url.get(\"href\") for url in atcoder_tags_parse.find_all(\"a\") if url.get(\"href\").startswith(\"http\")]\n",
    "    for url in prob_urls:\n",
    "        datum = extract_text_from_atcoder_problem_page(url)\n",
    "        df[\"urls\"].append(url)\n",
    "        df[\"problem_texts\"].append(datum[\"problem_text\"])\n",
    "        df[\"constraints\"].append(datum[\"constraint\"])\n",
    "        df[\"input_texts\"].append(datum[\"input_text\"])\n",
    "        df[\"output_texts\"].append(datum[\"output_text\"])\n",
    "        df[\"tag\"].append(tag)"
   ]
  },
  {
   "cell_type": "code",
   "execution_count": 20,
   "metadata": {},
   "outputs": [],
   "source": [
    "pd.DataFrame(df).to_csv(\"../data/cf_problem_tag_dataset.csv\",index=False)"
   ]
  }
 ]
}