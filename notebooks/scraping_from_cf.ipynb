{
 "metadata": {
  "language_info": {
   "codemirror_mode": {
    "name": "ipython",
    "version": 3
   },
   "file_extension": ".py",
   "mimetype": "text/x-python",
   "name": "python",
   "nbconvert_exporter": "python",
   "pygments_lexer": "ipython3",
   "version": "3.7.0-final"
  },
  "orig_nbformat": 2,
  "kernelspec": {
   "name": "python3",
   "display_name": "Python 3.7.0 64-bit ('base': conda)",
   "metadata": {
    "interpreter": {
     "hash": "66d0d3eda91e5879646b3ba1e7491bbb0b49271b31f0264f8c78d03d4ceed0f8"
    }
   }
  }
 },
 "nbformat": 4,
 "nbformat_minor": 2,
 "cells": [
  {
   "cell_type": "code",
   "execution_count": 1,
   "metadata": {},
   "outputs": [],
   "source": [
    "import requests\n",
    "from bs4 import BeautifulSoup"
   ]
  },
  {
   "cell_type": "code",
   "execution_count": 194,
   "metadata": {
    "tags": []
   },
   "outputs": [],
   "source": [
    "def extract_text_from_cf_problem_page(problem_url):\n",
    "    problem_html = requests.get(problem_url)\n",
    "    problem_parse = BeautifulSoup(problem_html.content,\"html.parser\")\n",
    "    problem_div = problem_parse.find_all(\"div\")\n",
    "    #問題文の抽出,コドフォのページのhtmlをよく見て該当部分の属性で抽出\n",
    "    res={\"problem_text\":[],\"input_text\":[],\"output_text\":[],\"tags\":[]}\n",
    "    for elem in problem_div:\n",
    "        try:\n",
    "            elem_cls = elem.get(\"class\")[0]\n",
    "            if(elem_cls == \"input-specification\"):\n",
    "                res[\"input_text\"].extend([paragraph.string for paragraph in elem.find_all(\"p\") if paragraph.string is not None])\n",
    "            if(elem_cls == \"output-specification\"):\n",
    "                res[\"output_text\"].extend([paragraph.string for paragraph in elem.find_all(\"p\") if paragraph.string is not None])\n",
    "                break\n",
    "        except:\n",
    "            if(not res[\"problem_text\"]):\n",
    "                res[\"problem_text\"].extend([paragraph.string for paragraph in elem.find_all(\"p\") if paragraph.string is not None])\n",
    "\n",
    "    res[\"problem_text\"]=\"\".join(res[\"problem_text\"])\n",
    "    res[\"input_text\"]=\"\".join(res[\"input_text\"])\n",
    "    res[\"output_text\"]=\"\".join(res[\"output_text\"])\n",
    "    #タグの抽出,コドフォのhtmlをよく見て該当部分の属性で抽出\n",
    "    problem_span = problem_parse.find_all(\"span\")\n",
    "    for elem in problem_span:\n",
    "        try:\n",
    "            elem_cls = elem.get(\"class\")[0]\n",
    "            if(elem_cls == \"tag-box\"):\n",
    "                res[\"tags\"].append(elem.string)\n",
    "        except:\n",
    "            pass\n",
    "    return res"
   ]
  },
  {
   "cell_type": "code",
   "execution_count": 195,
   "metadata": {},
   "outputs": [
    {
     "output_type": "stream",
     "name": "stdout",
     "text": [
      "<span class=\"tag-box\" style=\"font-size:1.2rem;\" title=\"Heaps, binary search trees, segment trees, hash tables, etc\">\n    data structures\n</span>\n<span class=\"tag-box\" style=\"font-size:1.2rem;\" title=\"Greedy algorithms\">\n    greedy\n</span>\n<span class=\"tag-box\" style=\"font-size:1.2rem;\" title=\"Mathematics including integration, differential equations, etc\">\n    math\n</span>\n<span class=\"tag-box\" style=\"font-size:1.2rem;\" title=\"Difficulty\">\n    *1100\n</span>\n"
     ]
    },
    {
     "output_type": "execute_result",
     "data": {
      "text/plain": [
       "{'problem_text': \"You have a deck of $$$n$$$ cards, and you'd like to reorder it to a new one.Each card has a value between $$$1$$$ and $$$n$$$ equal to $$$p_i$$$. All $$$p_i$$$ are pairwise distinct. Cards in a deck are numbered from bottom to top, i.\\xa0e. $$$p_1$$$ stands for the bottom card, $$$p_n$$$ is the top card. In each step you pick some integer $$$k > 0$$$, take the top $$$k$$$ cards from the original deck and place them, in the order they are now, on top of the new deck. You perform this operation until the original deck is empty. (Refer to the notes section for the better understanding.)Given the original deck, output the deck with maximum possible order you can make using the operation above.The first line contains a single integer $$$t$$$ ($$$1 \\\\le t \\\\le 1000$$$)\\xa0— the number of test cases.The first line of each test case contains the single integer $$$n$$$ ($$$1 \\\\le n \\\\le 10^5$$$)\\xa0— the size of deck you have.The second line contains $$$n$$$ integers $$$p_1, p_2,\\\\dots, p_n$$$ ($$$1 \\\\le p_i \\\\le n$$$; $$$p_i \\\\neq p_j$$$ if $$$i \\\\neq j$$$)\\xa0— values of card in the deck from bottom to top.It's guaranteed that the sum of $$$n$$$ over all test cases doesn't exceed $$$10^5$$$.For each test case print the deck with maximum possible order. Print values of cards in the deck from bottom to top.If there are multiple answers, print any of them. \",\n",
       " 'input_text': \"The first line contains a single integer $$$t$$$ ($$$1 \\\\le t \\\\le 1000$$$)\\xa0— the number of test cases.The first line of each test case contains the single integer $$$n$$$ ($$$1 \\\\le n \\\\le 10^5$$$)\\xa0— the size of deck you have.The second line contains $$$n$$$ integers $$$p_1, p_2,\\\\dots, p_n$$$ ($$$1 \\\\le p_i \\\\le n$$$; $$$p_i \\\\neq p_j$$$ if $$$i \\\\neq j$$$)\\xa0— values of card in the deck from bottom to top.It's guaranteed that the sum of $$$n$$$ over all test cases doesn't exceed $$$10^5$$$.\",\n",
       " 'output_text': 'For each test case print the deck with maximum possible order. Print values of cards in the deck from bottom to top.If there are multiple answers, print any of them.',\n",
       " 'tags': ['\\r\\n    data structures\\r\\n',\n",
       "  '\\r\\n    greedy\\r\\n',\n",
       "  '\\r\\n    math\\r\\n',\n",
       "  '\\r\\n    *1100\\r\\n']}"
      ]
     },
     "metadata": {},
     "execution_count": 195
    }
   ],
   "source": [
    "extract_text_from_cf_problem_page(\"https://codeforces.com/problemset/problem/1492/B\")"
   ]
  },
  {
   "cell_type": "code",
   "execution_count": null,
   "metadata": {},
   "outputs": [],
   "source": []
  }
 ]
}