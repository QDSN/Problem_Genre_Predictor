{
 "metadata": {
  "language_info": {
   "codemirror_mode": {
    "name": "ipython",
    "version": 3
   },
   "file_extension": ".py",
   "mimetype": "text/x-python",
   "name": "python",
   "nbconvert_exporter": "python",
   "pygments_lexer": "ipython3",
   "version": "3.7.0-final"
  },
  "orig_nbformat": 2,
  "kernelspec": {
   "name": "python3",
   "display_name": "Python 3.7.0 64-bit ('base': conda)",
   "metadata": {
    "interpreter": {
     "hash": "66d0d3eda91e5879646b3ba1e7491bbb0b49271b31f0264f8c78d03d4ceed0f8"
    }
   }
  }
 },
 "nbformat": 4,
 "nbformat_minor": 2,
 "cells": [
  {
   "cell_type": "code",
   "execution_count": 3,
   "metadata": {},
   "outputs": [],
   "source": [
    "import requests\n",
    "from bs4 import BeautifulSoup\n",
    "import pandas as pd\n",
    "from tqdm import tqdm"
   ]
  },
  {
   "cell_type": "code",
   "execution_count": 6,
   "metadata": {
    "tags": []
   },
   "outputs": [],
   "source": [
    "def extract_text_from_cf_problem_page(problem_url):\n",
    "    problem_html = requests.get(problem_url)\n",
    "    problem_parse = BeautifulSoup(problem_html.content,\"html.parser\",from_encoding=\"utf-8\")\n",
    "    problem_div = problem_parse.find_all(\"div\")\n",
    "    #問題文の抽出,コドフォのページのhtmlをよく見て該当部分の属性で抽出\n",
    "    res={\"problem_text\":[],\"input_text\":[],\"output_text\":[],\"tags\":[]}\n",
    "    for elem in problem_div:\n",
    "        try:\n",
    "            elem_cls = elem.get(\"class\")[0]\n",
    "            if(elem_cls == \"input-specification\"):\n",
    "                res[\"input_text\"].extend([paragraph.string for paragraph in elem.find_all(\"p\") if paragraph.string is not None])\n",
    "            if(elem_cls == \"output-specification\"):\n",
    "                res[\"output_text\"].extend([paragraph.string for paragraph in elem.find_all(\"p\") if paragraph.string is not None])\n",
    "                break\n",
    "        except:\n",
    "            if(not res[\"problem_text\"]):\n",
    "                res[\"problem_text\"].extend([paragraph.string for paragraph in elem.find_all(\"p\") if paragraph.string is not None])\n",
    "\n",
    "    res[\"problem_text\"]=\"\".join(res[\"problem_text\"])\n",
    "    res[\"input_text\"]=\"\".join(res[\"input_text\"])\n",
    "    res[\"output_text\"]=\"\".join(res[\"output_text\"])\n",
    "    #タグの抽出,コドフォのhtmlをよく見て該当部分の属性で抽出\n",
    "    problem_span = problem_parse.find_all(\"span\")\n",
    "    for elem in problem_span:\n",
    "        try:\n",
    "            elem_cls = elem.get(\"class\")[0]\n",
    "            if(elem_cls == \"tag-box\"):\n",
    "                res[\"tags\"].append(elem.string)\n",
    "        except:\n",
    "            pass\n",
    "    res[\"tags\"]=\"\".join(res[\"tags\"])\n",
    "    assert type(res[\"problem_text\"])==type(res[\"input_text\"])==type(res[\"output_text\"])==type(res[\"tags\"])==str, \"output is not strings\"\n",
    "    return res"
   ]
  },
  {
   "cell_type": "code",
   "execution_count": 3,
   "metadata": {},
   "outputs": [],
   "source": [
    "base_url = \"https://codeforces.com/problemset/problem/\"\n",
    "prob_nums = [str(i) for i in range(200,1500)] #200回から最新まで抽出\n",
    "capital = [chr(i) for i in range(65, 65+9)] #ABCDEFGHI\n",
    "prob_names = capital + [e+\"1\" for e in capital] #easyとhardがある場合があるがhardは割愛(問題文がほぼ同じため)"
   ]
  },
  {
   "cell_type": "code",
   "execution_count": 4,
   "metadata": {},
   "outputs": [],
   "source": [
    "df = {\"prob_id\":[],\"problem_texts\":[],\"input_texts\":[],\"output_texts\":[],\"tag_set\":[]}"
   ]
  },
  {
   "cell_type": "code",
   "execution_count": 5,
   "metadata": {
    "tags": []
   },
   "outputs": [],
   "source": [
    "save_point=0\n",
    "for num in prob_nums:\n",
    "    for name in prob_names:\n",
    "        prob_id = num+\"/\"+name\n",
    "        try:\n",
    "            datum = extract_text_from_cf_problem_page(base_url+prob_id)\n",
    "            df[\"prob_id\"].append(prob_id)\n",
    "            df[\"problem_texts\"].append(datum[\"problem_text\"])\n",
    "            df[\"input_texts\"].append(datum[\"input_text\"])\n",
    "            df[\"output_texts\"].append(datum[\"output_text\"])\n",
    "            df[\"tag_set\"].append(datum[\"tags\"])\n",
    "        except:\n",
    "            pass\n",
    "        assert len(df[\"prob_id\"])==len(df[\"problem_texts\"])==len(df[\"input_texts\"])==len(df[\"output_texts\"])==len(df[\"tag_set\"]), \"does not the same length\"\n",
    "    if(save_point%10==0):\n",
    "        pd.DataFrame(df).to_csv(\"../data/cf_problem_tag_dataset.csv\",index=False)\n",
    "        save_point+=1"
   ]
  },
  {
   "cell_type": "code",
   "execution_count": 27,
   "metadata": {},
   "outputs": [],
   "source": [
    "pd.DataFrame(df).to_csv(\"../data/cf_problem_tag_dataset.csv\",index=False)"
   ]
  },
  {
   "cell_type": "code",
   "execution_count": 7,
   "metadata": {},
   "outputs": [
    {
     "output_type": "execute_result",
     "data": {
      "text/plain": [
       "{'problem_text': \"You have a deck of $$$n$$$ cards, and you'd like to reorder it to a new one.Each card has a value between $$$1$$$ and $$$n$$$ equal to $$$p_i$$$. All $$$p_i$$$ are pairwise distinct. Cards in a deck are numbered from bottom to top, i.\\xa0e. $$$p_1$$$ stands for the bottom card, $$$p_n$$$ is the top card. In each step you pick some integer $$$k > 0$$$, take the top $$$k$$$ cards from the original deck and place them, in the order they are now, on top of the new deck. You perform this operation until the original deck is empty. (Refer to the notes section for the better understanding.)Let's define an order of a deck as $$$\\\\sum\\\\limits_{i = 1}^{n}{n^{n - i} \\\\cdot p_i}$$$.Given the original deck, output the deck with maximum possible order you can make using the operation above.The first line contains a single integer $$$t$$$ ($$$1 \\\\le t \\\\le 1000$$$)\\xa0— the number of test cases.The first line of each test case contains the single integer $$$n$$$ ($$$1 \\\\le n \\\\le 10^5$$$)\\xa0— the size of deck you have.The second line contains $$$n$$$ integers $$$p_1, p_2,\\\\dots, p_n$$$ ($$$1 \\\\le p_i \\\\le n$$$; $$$p_i \\\\neq p_j$$$ if $$$i \\\\neq j$$$)\\xa0— values of card in the deck from bottom to top.It's guaranteed that the sum of $$$n$$$ over all test cases doesn't exceed $$$10^5$$$.For each test case print the deck with maximum possible order. Print values of cards in the deck from bottom to top.If there are multiple answers, print any of them.In the first test case, one of the optimal strategies is the next one:   take $$$1$$$ card from the top of $$$p$$$ and move it to $$$p'$$$: $$$p$$$ becomes $$$[1, 2, 3]$$$, $$$p'$$$ becomes $$$[4]$$$;  take $$$1$$$ card from the top of $$$p$$$: $$$p$$$ becomes $$$[1, 2]$$$, $$$p'$$$ becomes $$$[4, 3]$$$;  take $$$1$$$ card from the top of $$$p$$$: $$$p$$$ becomes $$$[1]$$$, $$$p'$$$ becomes $$$[4, 3, 2]$$$;  take $$$1$$$ card from the top of $$$p$$$: $$$p$$$ becomes empty, $$$p'$$$ becomes $$$[4, 3, 2, 1]$$$.  In result, $$$p'$$$ has order equal to $$$4^3 \\\\cdot 4 + 4^2 \\\\cdot 3 + 4^1 \\\\cdot 2 + 4^0 \\\\cdot 1$$$ $$$=$$$ $$$256 + 48 + 8 + 1 = 313$$$.In the second test case, one of the optimal strategies is:   take $$$4$$$ cards from the top of $$$p$$$ and move it to $$$p'$$$: $$$p$$$ becomes $$$[1]$$$, $$$p'$$$ becomes $$$[5, 2, 4, 3]$$$;  take $$$1$$$ card from the top of $$$p$$$ and move it to $$$p'$$$: $$$p$$$ becomes empty, $$$p'$$$ becomes $$$[5, 2, 4, 3, 1]$$$;  In result, $$$p'$$$ has order equal to $$$5^4 \\\\cdot 5 + 5^3 \\\\cdot 2 + 5^2 \\\\cdot 4 + 5^1 \\\\cdot 3 + 5^0 \\\\cdot 1$$$ $$$=$$$ $$$3125 + 250 + 100 + 15 + 1 = 3491$$$.In the third test case, one of the optimal strategies is:   take $$$2$$$ cards from the top of $$$p$$$ and move it to $$$p'$$$: $$$p$$$ becomes $$$[4, 2, 5, 3]$$$, $$$p'$$$ becomes $$$[6, 1]$$$;  take $$$2$$$ cards from the top of $$$p$$$ and move it to $$$p'$$$: $$$p$$$ becomes $$$[4, 2]$$$, $$$p'$$$ becomes $$$[6, 1, 5, 3]$$$;  take $$$2$$$ cards from the top of $$$p$$$ and move it to $$$p'$$$: $$$p$$$ becomes empty, $$$p'$$$ becomes $$$[6, 1, 5, 3, 4, 2]$$$.  In result, $$$p'$$$ has order equal to $$$6^5 \\\\cdot 6 + 6^4 \\\\cdot 1 + 6^3 \\\\cdot 5 + 6^2 \\\\cdot 3 + 6^1 \\\\cdot 4 + 6^0 \\\\cdot 2$$$ $$$=$$$ $$$46656 + 1296 + 1080 + 108 + 24 + 2 = 49166$$$. You have a deck of $$$n$$$ cards, and you'd like to reorder it to a new one.Each card has a value between $$$1$$$ and $$$n$$$ equal to $$$p_i$$$. All $$$p_i$$$ are pairwise distinct. Cards in a deck are numbered from bottom to top, i.\\xa0e. $$$p_1$$$ stands for the bottom card, $$$p_n$$$ is the top card. In each step you pick some integer $$$k > 0$$$, take the top $$$k$$$ cards from the original deck and place them, in the order they are now, on top of the new deck. You perform this operation until the original deck is empty. (Refer to the notes section for the better understanding.)Let's define an order of a deck as $$$\\\\sum\\\\limits_{i = 1}^{n}{n^{n - i} \\\\cdot p_i}$$$.Given the original deck, output the deck with maximum possible order you can make using the operation above.The first line contains a single integer $$$t$$$ ($$$1 \\\\le t \\\\le 1000$$$)\\xa0— the number of test cases.The first line of each test case contains the single integer $$$n$$$ ($$$1 \\\\le n \\\\le 10^5$$$)\\xa0— the size of deck you have.The second line contains $$$n$$$ integers $$$p_1, p_2,\\\\dots, p_n$$$ ($$$1 \\\\le p_i \\\\le n$$$; $$$p_i \\\\neq p_j$$$ if $$$i \\\\neq j$$$)\\xa0— values of card in the deck from bottom to top.It's guaranteed that the sum of $$$n$$$ over all test cases doesn't exceed $$$10^5$$$.For each test case print the deck with maximum possible order. Print values of cards in the deck from bottom to top.If there are multiple answers, print any of them.In the first test case, one of the optimal strategies is the next one:   take $$$1$$$ card from the top of $$$p$$$ and move it to $$$p'$$$: $$$p$$$ becomes $$$[1, 2, 3]$$$, $$$p'$$$ becomes $$$[4]$$$;  take $$$1$$$ card from the top of $$$p$$$: $$$p$$$ becomes $$$[1, 2]$$$, $$$p'$$$ becomes $$$[4, 3]$$$;  take $$$1$$$ card from the top of $$$p$$$: $$$p$$$ becomes $$$[1]$$$, $$$p'$$$ becomes $$$[4, 3, 2]$$$;  take $$$1$$$ card from the top of $$$p$$$: $$$p$$$ becomes empty, $$$p'$$$ becomes $$$[4, 3, 2, 1]$$$.  In result, $$$p'$$$ has order equal to $$$4^3 \\\\cdot 4 + 4^2 \\\\cdot 3 + 4^1 \\\\cdot 2 + 4^0 \\\\cdot 1$$$ $$$=$$$ $$$256 + 48 + 8 + 1 = 313$$$.In the second test case, one of the optimal strategies is:   take $$$4$$$ cards from the top of $$$p$$$ and move it to $$$p'$$$: $$$p$$$ becomes $$$[1]$$$, $$$p'$$$ becomes $$$[5, 2, 4, 3]$$$;  take $$$1$$$ card from the top of $$$p$$$ and move it to $$$p'$$$: $$$p$$$ becomes empty, $$$p'$$$ becomes $$$[5, 2, 4, 3, 1]$$$;  In result, $$$p'$$$ has order equal to $$$5^4 \\\\cdot 5 + 5^3 \\\\cdot 2 + 5^2 \\\\cdot 4 + 5^1 \\\\cdot 3 + 5^0 \\\\cdot 1$$$ $$$=$$$ $$$3125 + 250 + 100 + 15 + 1 = 3491$$$.In the third test case, one of the optimal strategies is:   take $$$2$$$ cards from the top of $$$p$$$ and move it to $$$p'$$$: $$$p$$$ becomes $$$[4, 2, 5, 3]$$$, $$$p'$$$ becomes $$$[6, 1]$$$;  take $$$2$$$ cards from the top of $$$p$$$ and move it to $$$p'$$$: $$$p$$$ becomes $$$[4, 2]$$$, $$$p'$$$ becomes $$$[6, 1, 5, 3]$$$;  take $$$2$$$ cards from the top of $$$p$$$ and move it to $$$p'$$$: $$$p$$$ becomes empty, $$$p'$$$ becomes $$$[6, 1, 5, 3, 4, 2]$$$.  In result, $$$p'$$$ has order equal to $$$6^5 \\\\cdot 6 + 6^4 \\\\cdot 1 + 6^3 \\\\cdot 5 + 6^2 \\\\cdot 3 + 6^1 \\\\cdot 4 + 6^0 \\\\cdot 2$$$ $$$=$$$ $$$46656 + 1296 + 1080 + 108 + 24 + 2 = 49166$$$. You have a deck of $$$n$$$ cards, and you'd like to reorder it to a new one.Each card has a value between $$$1$$$ and $$$n$$$ equal to $$$p_i$$$. All $$$p_i$$$ are pairwise distinct. Cards in a deck are numbered from bottom to top, i.\\xa0e. $$$p_1$$$ stands for the bottom card, $$$p_n$$$ is the top card. In each step you pick some integer $$$k > 0$$$, take the top $$$k$$$ cards from the original deck and place them, in the order they are now, on top of the new deck. You perform this operation until the original deck is empty. (Refer to the notes section for the better understanding.)Let's define an order of a deck as $$$\\\\sum\\\\limits_{i = 1}^{n}{n^{n - i} \\\\cdot p_i}$$$.Given the original deck, output the deck with maximum possible order you can make using the operation above.\",\n",
       " 'input_text': \"The first line contains a single integer $$$t$$$ ($$$1 \\\\le t \\\\le 1000$$$)\\xa0— the number of test cases.The first line of each test case contains the single integer $$$n$$$ ($$$1 \\\\le n \\\\le 10^5$$$)\\xa0— the size of deck you have.The second line contains $$$n$$$ integers $$$p_1, p_2,\\\\dots, p_n$$$ ($$$1 \\\\le p_i \\\\le n$$$; $$$p_i \\\\neq p_j$$$ if $$$i \\\\neq j$$$)\\xa0— values of card in the deck from bottom to top.It's guaranteed that the sum of $$$n$$$ over all test cases doesn't exceed $$$10^5$$$.\",\n",
       " 'output_text': 'For each test case print the deck with maximum possible order. Print values of cards in the deck from bottom to top.If there are multiple answers, print any of them.',\n",
       " 'tags': '\\r\\n    data structures\\r\\n\\r\\n    greedy\\r\\n\\r\\n    math\\r\\n\\r\\n    *1100\\r\\n'}"
      ]
     },
     "metadata": {},
     "execution_count": 7
    }
   ],
   "source": []
  },
  {
   "cell_type": "code",
   "execution_count": null,
   "metadata": {},
   "outputs": [],
   "source": []
  }
 ]
}