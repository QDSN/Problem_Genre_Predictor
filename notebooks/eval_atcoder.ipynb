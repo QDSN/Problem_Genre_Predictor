{
 "cells": [
  {
   "cell_type": "code",
   "execution_count": 1,
   "metadata": {
    "executionInfo": {
     "elapsed": 4569,
     "status": "ok",
     "timestamp": 1614858323090,
     "user": {
      "displayName": "童祺俊",
      "photoUrl": "",
      "userId": "10868036175973256652"
     },
     "user_tz": -540
    },
    "id": "8YzFB8sn7coV"
   },
   "outputs": [],
   "source": [
    "import pandas as pd\n",
    "import torch\n",
    "from sklearn.preprocessing import LabelEncoder\n",
    "from transformers import AutoTokenizer, BertForSequenceClassification, AdamW\n",
    "from transformers import AlbertTokenizer, AlbertForSequenceClassification\n",
    "from tqdm import trange,tqdm\n",
    "from sklearn.model_selection import train_test_split\n",
    "from torch.utils.data import dataloader"
   ]
  },
  {
   "cell_type": "code",
   "execution_count": 2,
   "metadata": {
    "executionInfo": {
     "elapsed": 4566,
     "status": "ok",
     "timestamp": 1614858323090,
     "user": {
      "displayName": "童祺俊",
      "photoUrl": "",
      "userId": "10868036175973256652"
     },
     "user_tz": -540
    },
    "id": "u0_62rny8kT1"
   },
   "outputs": [],
   "source": [
    "device = torch.device('cuda:0' if torch.cuda.is_available() else 'cpu')"
   ]
  },
  {
   "cell_type": "code",
   "execution_count": 3,
   "metadata": {
    "executionInfo": {
     "elapsed": 4564,
     "status": "ok",
     "timestamp": 1614858323091,
     "user": {
      "displayName": "童祺俊",
      "photoUrl": "",
      "userId": "10868036175973256652"
     },
     "user_tz": -540
    },
    "id": "3fZo2gnW7gBk"
   },
   "outputs": [],
   "source": [
    "df=pd.read_csv(\"../data/atcoder_problem_tag_dataset.csv\")"
   ]
  },
  {
   "cell_type": "code",
   "execution_count": 4,
   "metadata": {
    "executionInfo": {
     "elapsed": 4562,
     "status": "ok",
     "timestamp": 1614858323091,
     "user": {
      "displayName": "童祺俊",
      "photoUrl": "",
      "userId": "10868036175973256652"
     },
     "user_tz": -540
    },
    "id": "oT-8BeJW7jZL"
   },
   "outputs": [],
   "source": [
    "df=df[df[\"problem_texts\"].notna()].reset_index()\n",
    "df[\"concatenate_texts\"]=df[\"problem_texts\"]+df[\"constraints\"]+df[\"input_texts\"]+df[\"output_texts\"]\n",
    "le = LabelEncoder()\n",
    "df[\"tag\"] = le.fit_transform(df[\"tag\"])"
   ]
  },
  {
   "cell_type": "code",
   "execution_count": 5,
   "metadata": {
    "executionInfo": {
     "elapsed": 4559,
     "status": "ok",
     "timestamp": 1614858323091,
     "user": {
      "displayName": "童祺俊",
      "photoUrl": "",
      "userId": "10868036175973256652"
     },
     "user_tz": -540
    },
    "id": "0ZkMsGzU7myl"
   },
   "outputs": [],
   "source": [
    "df_copy = df.copy()\n",
    "df_train = df_copy.sample(frac=0.8, random_state=0)\n",
    "df_eval = df_copy.drop(df_train.index).reset_index()\n",
    "df_train = df_train.reset_index()"
   ]
  },
  {
   "cell_type": "code",
   "execution_count": 6,
   "metadata": {
    "colab": {
     "base_uri": "https://localhost:8080/"
    },
    "executionInfo": {
     "elapsed": 12518,
     "status": "ok",
     "timestamp": 1614858331053,
     "user": {
      "displayName": "童祺俊",
      "photoUrl": "",
      "userId": "10868036175973256652"
     },
     "user_tz": -540
    },
    "id": "R_3ry9WF7m6T",
    "outputId": "f5dcaefa-ee20-478a-b3ab-8ca287da141c"
   },
   "outputs": [],
   "source": [
    "tokenizer = AutoTokenizer.from_pretrained('albert-base-v2')\n",
    "model = AlbertForSequenceClassification.from_pretrained('../models/albert_atcoder/',return_dict=True,num_labels=14)\n",
    "model.to(device)\n",
    "optimizer = AdamW(model.parameters(), lr=1e-5)"
   ]
  },
  {
   "cell_type": "code",
   "execution_count": 7,
   "metadata": {
    "executionInfo": {
     "elapsed": 12513,
     "status": "ok",
     "timestamp": 1614858331054,
     "user": {
      "displayName": "童祺俊",
      "photoUrl": "",
      "userId": "10868036175973256652"
     },
     "user_tz": -540
    },
    "id": "-Z6hwquo7m_e"
   },
   "outputs": [],
   "source": [
    "class DataSet:\n",
    "    def __init__(self,df,tokenizer,input_col_name,output_col_name):\n",
    "        self.X = tokenizer.batch_encode_plus(df[\"concatenate_texts\"].tolist(),truncation=True,max_length=512,pad_to_max_length=True, add_special_tokens=True,return_tensors='pt')\n",
    "        self.y = torch.tensor(df[output_col_name])\n",
    "    \n",
    "    def __len__(self):\n",
    "        return len(self.y)\n",
    "\n",
    "    def __getitem__(self,index):\n",
    "        return self.X[\"input_ids\"][index].to(device),self.X[\"token_type_ids\"][index].to(device), self.X[\"attention_mask\"][index].to(device), self.y[index].to(device)"
   ]
  },
  {
   "cell_type": "code",
   "execution_count": 8,
   "metadata": {
    "colab": {
     "base_uri": "https://localhost:8080/"
    },
    "executionInfo": {
     "elapsed": 13845,
     "status": "ok",
     "timestamp": 1614858332390,
     "user": {
      "displayName": "童祺俊",
      "photoUrl": "",
      "userId": "10868036175973256652"
     },
     "user_tz": -540
    },
    "id": "AI40L3cv7unN",
    "outputId": "3c793121-a92a-4181-d53d-f2e5ed45f4d5"
   },
   "outputs": [
    {
     "name": "stderr",
     "output_type": "stream",
     "text": [
      "/Users/tongqijun/.pyenv/versions/anaconda3-5.3.1/lib/python3.7/site-packages/transformers/tokenization_utils_base.py:2155: FutureWarning: The `pad_to_max_length` argument is deprecated and will be removed in a future version, use `padding=True` or `padding='longest'` to pad to the longest sequence in the batch, or use `padding='max_length'` to pad to a max length. In this case, you can give a specific length with `max_length` (e.g. `max_length=45`) or leave max_length to None to pad to the maximal input size of the model (e.g. 512 for Bert).\n",
      "  FutureWarning,\n"
     ]
    }
   ],
   "source": [
    "dataset_eval = DataSet(df_eval,tokenizer,\"concatenate_texts\",\"tag\")\n",
    "evalset = dataloader.DataLoader(dataset = dataset_eval, shuffle=False, batch_size = 20)"
   ]
  },
  {
   "cell_type": "code",
   "execution_count": 9,
   "metadata": {
    "colab": {
     "base_uri": "https://localhost:8080/"
    },
    "id": "X95yn3kR7xCj",
    "outputId": "1c468589-e541-49f1-f692-af57ece388b0"
   },
   "outputs": [
    {
     "name": "stderr",
     "output_type": "stream",
     "text": [
      "100%|██████████| 17/17 [06:31<00:00, 23.03s/it]\n"
     ]
    }
   ],
   "source": [
    "preds=[]\n",
    "trues=[]\n",
    "model.eval()\n",
    "for batch in tqdm(evalset):\n",
    "    with torch.no_grad():\n",
    "        input_ids, input_token_type_ids, input_attention_mask ,labels= batch\n",
    "        output_eval = model(input_ids,token_type_ids = input_token_type_ids,attention_mask =input_attention_mask, labels=labels)\n",
    "        preds +=torch.argmax(output_eval[1],axis=1).tolist()\n",
    "        trues +=labels.tolist()"
   ]
  },
  {
   "cell_type": "code",
   "execution_count": 10,
   "metadata": {},
   "outputs": [
    {
     "name": "stdout",
     "output_type": "stream",
     "text": [
      "0.33636363636363636\n"
     ]
    }
   ],
   "source": [
    "cum=0\n",
    "for i,j in zip(preds,trues):\n",
    "    cum+=(i==j)\n",
    "print(cum/len(preds))"
   ]
  },
  {
   "cell_type": "code",
   "execution_count": null,
   "metadata": {},
   "outputs": [],
   "source": []
  }
 ],
 "metadata": {
  "accelerator": "GPU",
  "colab": {
   "authorship_tag": "ABX9TyM71M66YdDhJtz4zL0bRCqo",
   "collapsed_sections": [],
   "name": "Untitled11.ipynb",
   "provenance": []
  },
  "kernelspec": {
   "display_name": "Python 3",
   "language": "python",
   "name": "python3"
  },
  "language_info": {
   "codemirror_mode": {
    "name": "ipython",
    "version": 3
   },
   "file_extension": ".py",
   "mimetype": "text/x-python",
   "name": "python",
   "nbconvert_exporter": "python",
   "pygments_lexer": "ipython3",
   "version": "3.7.0"
  }
 },
 "nbformat": 4,
 "nbformat_minor": 1
}
