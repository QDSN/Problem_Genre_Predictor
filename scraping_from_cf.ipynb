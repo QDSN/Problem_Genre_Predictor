{
 "metadata": {
  "language_info": {
   "codemirror_mode": {
    "name": "ipython",
    "version": 3
   },
   "file_extension": ".py",
   "mimetype": "text/x-python",
   "name": "python",
   "nbconvert_exporter": "python",
   "pygments_lexer": "ipython3",
   "version": "3.7.0-final"
  },
  "orig_nbformat": 2,
  "kernelspec": {
   "name": "python3",
   "display_name": "Python 3.7.0 64-bit ('base': conda)",
   "metadata": {
    "interpreter": {
     "hash": "66d0d3eda91e5879646b3ba1e7491bbb0b49271b31f0264f8c78d03d4ceed0f8"
    }
   }
  }
 },
 "nbformat": 4,
 "nbformat_minor": 2,
 "cells": [
  {
   "cell_type": "code",
   "execution_count": 1,
   "metadata": {},
   "outputs": [],
   "source": [
    "import requests\n",
    "from bs4 import BeautifulSoup"
   ]
  },
  {
   "cell_type": "code",
   "execution_count": 186,
   "metadata": {
    "tags": []
   },
   "outputs": [],
   "source": [
    "def extract_text_from_cf_problem_page(problem_url):\n",
    "    problem_html = requests.get(problem_url)\n",
    "    problem_parse = BeautifulSoup(problem_html.content,\"html.parser\")\n",
    "    problem_div = problem_parse.find_all(\"div\")\n",
    "\n",
    "    res={\"problem_text\":[],\"input_text\":[],\"output_text\":[]}\n",
    "    for elem in problem_div:\n",
    "        try:\n",
    "            elem_cls = elem.get(\"class\")[0]\n",
    "            if(elem_cls == \"input-specification\"):\n",
    "                res[\"input_text\"].extend([paragraph.string for paragraph in elem.find_all(\"p\") if paragraph.string is not None])\n",
    "            if(elem_cls == \"output-specification\"):\n",
    "                res[\"output_text\"].extend([paragraph.string for paragraph in elem.find_all(\"p\") if paragraph.string is not None])\n",
    "                break\n",
    "        except:\n",
    "            if(not res[\"problem_text\"]):\n",
    "                res[\"problem_text\"].extend([paragraph.string for paragraph in elem.find_all(\"p\") if paragraph.string is not None])\n",
    "\n",
    "    res[\"problem_text\"]=\"\".join(res[\"problem_text\"])\n",
    "    res[\"input_text\"]=\"\".join(res[\"input_text\"])\n",
    "    res[\"output_text\"]=\"\".join(res[\"output_text\"])\n",
    "\n",
    "    return res"
   ]
  },
  {
   "cell_type": "code",
   "execution_count": null,
   "metadata": {},
   "outputs": [],
   "source": []
  }
 ]
}